{
  "nbformat": 4,
  "nbformat_minor": 0,
  "metadata": {
    "colab": {
      "name": "irradiance.ipynb",
      "provenance": []
    },
    "kernelspec": {
      "name": "python3",
      "display_name": "Python 3"
    }
  },
  "cells": [
    {
      "cell_type": "code",
      "metadata": {
        "id": "vhXG6lMAdKC4",
        "colab_type": "code",
        "outputId": "17d9a0ac-7bbf-4a86-f1f8-2e8b42f7e6d9",
        "colab": {
          "base_uri": "https://localhost:8080/",
          "height": 122
        }
      },
      "source": [
        "from google.colab import drive\n",
        "drive.mount('/content/gdrive')"
      ],
      "execution_count": 1,
      "outputs": [
        {
          "output_type": "stream",
          "text": [
            "Go to this URL in a browser: https://accounts.google.com/o/oauth2/auth?client_id=947318989803-6bn6qk8qdgf4n4g3pfee6491hc0brc4i.apps.googleusercontent.com&redirect_uri=urn%3aietf%3awg%3aoauth%3a2.0%3aoob&response_type=code&scope=email%20https%3a%2f%2fwww.googleapis.com%2fauth%2fdocs.test%20https%3a%2f%2fwww.googleapis.com%2fauth%2fdrive%20https%3a%2f%2fwww.googleapis.com%2fauth%2fdrive.photos.readonly%20https%3a%2f%2fwww.googleapis.com%2fauth%2fpeopleapi.readonly\n",
            "\n",
            "Enter your authorization code:\n",
            "··········\n",
            "Mounted at /content/gdrive\n"
          ],
          "name": "stdout"
        }
      ]
    },
    {
      "cell_type": "code",
      "metadata": {
        "id": "MBAqwLV2-ClN",
        "colab_type": "code",
        "cellView": "form",
        "colab": {}
      },
      "source": [
        "# @markdown Loading Dependencies\n",
        "from bs4 import BeautifulSoup as bs\n",
        "import requests\n",
        "import pandas as pd\n"
      ],
      "execution_count": 0,
      "outputs": []
    },
    {
      "cell_type": "code",
      "metadata": {
        "id": "YYNEKXG5Apoa",
        "colab_type": "code",
        "cellView": "form",
        "outputId": "367de244-3191-4f3a-bb9f-b59fef1d30fc",
        "colab": {
          "base_uri": "https://localhost:8080/",
          "height": 119
        }
      },
      "source": [
        "# @markdown Fetching District names\n",
        "states = ['bihar','rajasthan','delhi']\n",
        "india = {}\n",
        "for i in states:  \n",
        "  stateLink = 'https://www.nriol.com/india-statistics/' + i + '/districts.asp'\n",
        "  print(stateLink)\n",
        "  statePage = requests.get(stateLink)\n",
        "  print(statePage)\n",
        "  stateSoup = bs(statePage.content,'html.parser')\n",
        "  tableValues = stateSoup.find_all('td')\n",
        "  districts = []\n",
        "  for j in range(1,len(tableValues),5):\n",
        "    districts.append(tableValues[j].get_text())\n",
        "  india[i] = districts\n"
      ],
      "execution_count": 3,
      "outputs": [
        {
          "output_type": "stream",
          "text": [
            "https://www.nriol.com/india-statistics/bihar/districts.asp\n",
            "<Response [200]>\n",
            "https://www.nriol.com/india-statistics/rajasthan/districts.asp\n",
            "<Response [200]>\n",
            "https://www.nriol.com/india-statistics/delhi/districts.asp\n",
            "<Response [200]>\n"
          ],
          "name": "stdout"
        }
      ]
    },
    {
      "cell_type": "code",
      "metadata": {
        "id": "O6giZOgkAPGE",
        "colab_type": "code",
        "cellView": "form",
        "outputId": "2dc926b6-3f3c-49c7-9d06-dd4baf0a604a",
        "colab": {
          "base_uri": "https://localhost:8080/",
          "height": 1000
        }
      },
      "source": [
        "# @markdown Dataset Scraping\n",
        "latitude =[]\n",
        "longitude = []\n",
        "district = []\n",
        "month = []\n",
        "irradiance = []\n",
        "state = []\n",
        "for key,value in india.items():\n",
        "  print(key)\n",
        "  print(value)\n",
        "  for i in value:\n",
        "    link = 'http://www.synergyenviron.com/tools/solar-irradiance/india/' + key + '/' + i\n",
        "    print(link)\n",
        "    try:\n",
        "      page = requests.get(link)\n",
        "      soup = bs(page.content,'html.parser')\n",
        "      small = soup.find_all('small')\n",
        "      forLatLon= (small[0].get_text()).split(' ')\n",
        "      la = forLatLon[2]\n",
        "      lt = forLatLon[6]\n",
        "      \n",
        "      td2 = soup.find_all('td',class_ = 'small')\n",
        "      for j in range(12,int(len(td2)/2)):\n",
        "        month.append(td2[2*j].get_text())\n",
        "        #print(month)\n",
        "        irradiance.append(td2[2*j+1].get_text())\n",
        "        #print(irradiance)\n",
        "        latitude.append(la)\n",
        "        #print(latitude)\n",
        "        longitude.append(lt)\n",
        "        #print(longitude)\n",
        "        district.append(i)\n",
        "        #print(district)\n",
        "        state.append(key)\n",
        "    except:\n",
        "      pass\n",
        "\n",
        "    "
      ],
      "execution_count": 6,
      "outputs": [
        {
          "output_type": "stream",
          "text": [
            "bihar\n",
            "['Araria', 'Arwal', 'Aurangabad', 'Banka', 'Begusarai', 'Bhagalpur', 'Bhojpur', 'Buxar', 'Darbhanga', 'East Champaran', 'Gaya', 'Gopalganj', 'Jamui', 'Jehanabad', 'Khagaria', 'Kishanganj', 'Kaimur', 'Katihar', 'Lakhisarai', 'Madhubani', 'Munger', 'Madhepura', 'Muzaffarpur', 'Nalanda', 'Nawada', 'Patna', 'Purnia', 'Rohtas', 'Saharsa', 'Samastipur', 'Sheohar', 'Sheikhpura', 'Saran', 'Sitamarhi', 'Supaul', 'Siwan', 'Vaishali', 'West Champaran']\n",
            "http://www.synergyenviron.com/tools/solar-irradiance/india/bihar/Araria\n",
            "http://www.synergyenviron.com/tools/solar-irradiance/india/bihar/Arwal\n",
            "http://www.synergyenviron.com/tools/solar-irradiance/india/bihar/Aurangabad\n",
            "http://www.synergyenviron.com/tools/solar-irradiance/india/bihar/Banka\n",
            "http://www.synergyenviron.com/tools/solar-irradiance/india/bihar/Begusarai\n",
            "http://www.synergyenviron.com/tools/solar-irradiance/india/bihar/Bhagalpur\n",
            "http://www.synergyenviron.com/tools/solar-irradiance/india/bihar/Bhojpur\n",
            "http://www.synergyenviron.com/tools/solar-irradiance/india/bihar/Buxar\n",
            "http://www.synergyenviron.com/tools/solar-irradiance/india/bihar/Darbhanga\n",
            "http://www.synergyenviron.com/tools/solar-irradiance/india/bihar/East Champaran\n",
            "http://www.synergyenviron.com/tools/solar-irradiance/india/bihar/Gaya\n",
            "http://www.synergyenviron.com/tools/solar-irradiance/india/bihar/Gopalganj\n",
            "http://www.synergyenviron.com/tools/solar-irradiance/india/bihar/Jamui\n",
            "http://www.synergyenviron.com/tools/solar-irradiance/india/bihar/Jehanabad\n",
            "http://www.synergyenviron.com/tools/solar-irradiance/india/bihar/Khagaria\n",
            "http://www.synergyenviron.com/tools/solar-irradiance/india/bihar/Kishanganj\n",
            "http://www.synergyenviron.com/tools/solar-irradiance/india/bihar/Kaimur\n",
            "http://www.synergyenviron.com/tools/solar-irradiance/india/bihar/Katihar\n",
            "http://www.synergyenviron.com/tools/solar-irradiance/india/bihar/Lakhisarai\n",
            "http://www.synergyenviron.com/tools/solar-irradiance/india/bihar/Madhubani\n",
            "http://www.synergyenviron.com/tools/solar-irradiance/india/bihar/Munger\n",
            "http://www.synergyenviron.com/tools/solar-irradiance/india/bihar/Madhepura\n",
            "http://www.synergyenviron.com/tools/solar-irradiance/india/bihar/Muzaffarpur\n",
            "http://www.synergyenviron.com/tools/solar-irradiance/india/bihar/Nalanda\n",
            "http://www.synergyenviron.com/tools/solar-irradiance/india/bihar/Nawada\n",
            "http://www.synergyenviron.com/tools/solar-irradiance/india/bihar/Patna\n",
            "http://www.synergyenviron.com/tools/solar-irradiance/india/bihar/Purnia\n",
            "http://www.synergyenviron.com/tools/solar-irradiance/india/bihar/Rohtas\n",
            "http://www.synergyenviron.com/tools/solar-irradiance/india/bihar/Saharsa\n",
            "http://www.synergyenviron.com/tools/solar-irradiance/india/bihar/Samastipur\n",
            "http://www.synergyenviron.com/tools/solar-irradiance/india/bihar/Sheohar\n",
            "http://www.synergyenviron.com/tools/solar-irradiance/india/bihar/Sheikhpura\n",
            "http://www.synergyenviron.com/tools/solar-irradiance/india/bihar/Saran\n",
            "http://www.synergyenviron.com/tools/solar-irradiance/india/bihar/Sitamarhi\n",
            "http://www.synergyenviron.com/tools/solar-irradiance/india/bihar/Supaul\n",
            "http://www.synergyenviron.com/tools/solar-irradiance/india/bihar/Siwan\n",
            "http://www.synergyenviron.com/tools/solar-irradiance/india/bihar/Vaishali\n",
            "http://www.synergyenviron.com/tools/solar-irradiance/india/bihar/West Champaran\n",
            "rajasthan\n",
            "['Ajmer', 'Alwar', 'Banswara', 'Baran', 'Barmer', 'Bharatpur', 'Bhilwara', 'Bikaner', 'Bundi', 'Chittorgarh', 'Churu', 'Dausa', 'Dholpur', 'Dungarpur', 'Hanumangarh', 'Jaipur', 'Jaisalmer', 'Jalor', 'Jhalawar', 'Jhunjhunu', 'Jodhpur', 'Karauli', 'Kota', 'Nagaur', 'Pali', 'Pratapgarh', 'Rajsamand', 'Sawai Madhopur', 'Sikar', 'Sirohi', 'Sri Ganganagar', 'Tonk', 'Udaipur']\n",
            "http://www.synergyenviron.com/tools/solar-irradiance/india/rajasthan/Ajmer\n",
            "http://www.synergyenviron.com/tools/solar-irradiance/india/rajasthan/Alwar\n",
            "http://www.synergyenviron.com/tools/solar-irradiance/india/rajasthan/Banswara\n",
            "http://www.synergyenviron.com/tools/solar-irradiance/india/rajasthan/Baran\n",
            "http://www.synergyenviron.com/tools/solar-irradiance/india/rajasthan/Barmer\n",
            "http://www.synergyenviron.com/tools/solar-irradiance/india/rajasthan/Bharatpur\n",
            "http://www.synergyenviron.com/tools/solar-irradiance/india/rajasthan/Bhilwara\n",
            "http://www.synergyenviron.com/tools/solar-irradiance/india/rajasthan/Bikaner\n",
            "http://www.synergyenviron.com/tools/solar-irradiance/india/rajasthan/Bundi\n",
            "http://www.synergyenviron.com/tools/solar-irradiance/india/rajasthan/Chittorgarh\n",
            "http://www.synergyenviron.com/tools/solar-irradiance/india/rajasthan/Churu\n",
            "http://www.synergyenviron.com/tools/solar-irradiance/india/rajasthan/Dausa\n",
            "http://www.synergyenviron.com/tools/solar-irradiance/india/rajasthan/Dholpur\n",
            "http://www.synergyenviron.com/tools/solar-irradiance/india/rajasthan/Dungarpur\n",
            "http://www.synergyenviron.com/tools/solar-irradiance/india/rajasthan/Hanumangarh\n",
            "http://www.synergyenviron.com/tools/solar-irradiance/india/rajasthan/Jaipur\n",
            "http://www.synergyenviron.com/tools/solar-irradiance/india/rajasthan/Jaisalmer\n",
            "http://www.synergyenviron.com/tools/solar-irradiance/india/rajasthan/Jalor\n",
            "http://www.synergyenviron.com/tools/solar-irradiance/india/rajasthan/Jhalawar\n",
            "http://www.synergyenviron.com/tools/solar-irradiance/india/rajasthan/Jhunjhunu\n",
            "http://www.synergyenviron.com/tools/solar-irradiance/india/rajasthan/Jodhpur\n",
            "http://www.synergyenviron.com/tools/solar-irradiance/india/rajasthan/Karauli\n",
            "http://www.synergyenviron.com/tools/solar-irradiance/india/rajasthan/Kota\n",
            "http://www.synergyenviron.com/tools/solar-irradiance/india/rajasthan/Nagaur\n",
            "http://www.synergyenviron.com/tools/solar-irradiance/india/rajasthan/Pali\n",
            "http://www.synergyenviron.com/tools/solar-irradiance/india/rajasthan/Pratapgarh\n",
            "http://www.synergyenviron.com/tools/solar-irradiance/india/rajasthan/Rajsamand\n",
            "http://www.synergyenviron.com/tools/solar-irradiance/india/rajasthan/Sawai Madhopur\n",
            "http://www.synergyenviron.com/tools/solar-irradiance/india/rajasthan/Sikar\n",
            "http://www.synergyenviron.com/tools/solar-irradiance/india/rajasthan/Sirohi\n",
            "http://www.synergyenviron.com/tools/solar-irradiance/india/rajasthan/Sri Ganganagar\n",
            "http://www.synergyenviron.com/tools/solar-irradiance/india/rajasthan/Tonk\n",
            "http://www.synergyenviron.com/tools/solar-irradiance/india/rajasthan/Udaipur\n",
            "delhi\n",
            "['Central Delhi', 'North Delhi', 'South Delhi', 'East Delhi', 'North East Delhi', 'South West Delhi', 'New Delhi', 'North West Delhi', 'West Delhi', 'Shahdara', 'South Eest Delhi']\n",
            "http://www.synergyenviron.com/tools/solar-irradiance/india/delhi/Central Delhi\n",
            "http://www.synergyenviron.com/tools/solar-irradiance/india/delhi/North Delhi\n",
            "http://www.synergyenviron.com/tools/solar-irradiance/india/delhi/South Delhi\n",
            "http://www.synergyenviron.com/tools/solar-irradiance/india/delhi/East Delhi\n",
            "http://www.synergyenviron.com/tools/solar-irradiance/india/delhi/North East Delhi\n",
            "http://www.synergyenviron.com/tools/solar-irradiance/india/delhi/South West Delhi\n",
            "http://www.synergyenviron.com/tools/solar-irradiance/india/delhi/New Delhi\n",
            "http://www.synergyenviron.com/tools/solar-irradiance/india/delhi/North West Delhi\n",
            "http://www.synergyenviron.com/tools/solar-irradiance/india/delhi/West Delhi\n",
            "http://www.synergyenviron.com/tools/solar-irradiance/india/delhi/Shahdara\n",
            "http://www.synergyenviron.com/tools/solar-irradiance/india/delhi/South Eest Delhi\n"
          ],
          "name": "stdout"
        }
      ]
    },
    {
      "cell_type": "code",
      "metadata": {
        "id": "4rYqv0j7gc5S",
        "colab_type": "code",
        "cellView": "both",
        "outputId": "cbaaebf7-d66d-4bef-e71a-b212acb94582",
        "colab": {
          "base_uri": "https://localhost:8080/",
          "height": 153
        }
      },
      "source": [
        "# @markdown Dataset scraping manually for some important districts\n",
        "value = ['saket','connaught-place','kanjhawala','rajouri-garden','sadar-bazar','vasant-vihar','darya-ganj','preet-vihar']\n",
        "for k in value:\n",
        "    link = 'http://www.synergyenviron.com/tools/solar-irradiance/india/' + 'delhi' + '/' + k\n",
        "    print(link)\n",
        "    try:\n",
        "      page = requests.get(link)\n",
        "      soup = bs(page.content,'html.parser')\n",
        "      small = soup.find_all('small')\n",
        "      forLatLon= (small[0].get_text()).split(' ')\n",
        "      la = forLatLon[2]\n",
        "      lt = forLatLon[6]\n",
        "      \n",
        "      td2 = soup.find_all('td',class_ = 'small')\n",
        "      for j in range(12,int(len(td2)/2)):\n",
        "        month.append(td2[2*j].get_text())\n",
        "        irradiance.append(td2[2*j+1].get_text())\n",
        "        latitude.append(la)\n",
        "        longitude.append(lt)\n",
        "        district.append(k)\n",
        "        state.append('delhi')\n",
        "    except:\n",
        "      pass\n",
        "mydict = {'State':state,'District' : district,'Latitude' : latitude , 'Longitude' : longitude,'Month': month,'Irradiance' : irradiance}\n",
        "df = pd.DataFrame(mydict)\n",
        "df.to_csv('/content/gdrive/My Drive/minor/Irradiance_Dataset.csv') \n"
      ],
      "execution_count": 7,
      "outputs": [
        {
          "output_type": "stream",
          "text": [
            "http://www.synergyenviron.com/tools/solar-irradiance/india/delhi/saket\n",
            "http://www.synergyenviron.com/tools/solar-irradiance/india/delhi/connaught-place\n",
            "http://www.synergyenviron.com/tools/solar-irradiance/india/delhi/kanjhawala\n",
            "http://www.synergyenviron.com/tools/solar-irradiance/india/delhi/rajouri-garden\n",
            "http://www.synergyenviron.com/tools/solar-irradiance/india/delhi/sadar-bazar\n",
            "http://www.synergyenviron.com/tools/solar-irradiance/india/delhi/vasant-vihar\n",
            "http://www.synergyenviron.com/tools/solar-irradiance/india/delhi/darya-ganj\n",
            "http://www.synergyenviron.com/tools/solar-irradiance/india/delhi/preet-vihar\n"
          ],
          "name": "stdout"
        }
      ]
    },
    {
      "cell_type": "code",
      "metadata": {
        "id": "uob2jOIJFGju",
        "colab_type": "code",
        "colab": {}
      },
      "source": [
        ""
      ],
      "execution_count": 0,
      "outputs": []
    }
  ]
}